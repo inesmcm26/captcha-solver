{
 "cells": [
  {
   "attachments": {},
   "cell_type": "markdown",
   "metadata": {},
   "source": [
    "# Captcha Solver"
   ]
  },
  {
   "attachments": {},
   "cell_type": "markdown",
   "metadata": {},
   "source": [
    "## Simple captcha solver"
   ]
  },
  {
   "cell_type": "code",
   "execution_count": 281,
   "metadata": {},
   "outputs": [
    {
     "data": {
      "text/plain": [
       "<module 'utils' from '/home/inesmcm/Desktop/projects/captcha-solver/src/utils.py'>"
      ]
     },
     "execution_count": 281,
     "metadata": {},
     "output_type": "execute_result"
    }
   ],
   "source": [
    "from importlib import reload\n",
    "import matplotlib.pyplot as plt\n",
    "from sklearn.model_selection import train_test_split\n",
    "from imutils import paths\n",
    "import numpy as np\n",
    "import pickle\n",
    "from keras.models import load_model\n",
    "\n",
    "import char_detection\n",
    "import preprocess\n",
    "import model_definition\n",
    "import utils\n",
    "\n",
    "reload(char_detection)\n",
    "reload(preprocess)\n",
    "reload(model_definition)\n",
    "reload(utils)"
   ]
  },
  {
   "attachments": {},
   "cell_type": "markdown",
   "metadata": {},
   "source": [
    "#### Preprocessing images\n",
    "\n",
    "Whole captcha images are cropped into new images containing each character"
   ]
  },
  {
   "cell_type": "code",
   "execution_count": 104,
   "metadata": {},
   "outputs": [],
   "source": [
    "SIMPLE_CAPTCHA_FOLDER = '../data/simple_captcha'\n",
    "SIMPLE_CHAR_FOLDER = '../data/simple_characters'\n",
    "HARD_CAPTCHA_FOLDER = '../data/hard_captcha'\n",
    "HARD_CHAR_FOLDER = '../data/hard_characters'\n",
    "\n",
    "SIMPLE_LABEL_BINARIZER = '../models/one_hot/simple_label_binarizer.dat'\n",
    "HARD_LABEL_BINARIZER = '../models/one_hot/hard_label_binarizer.dat'\n",
    "\n",
    "SIMPLE_MODEL = '../models/CNN/simple_captcha_model.hdf5'\n",
    "HARD_MODEL = '../models/CNN/hard_captcha_model.hdf5'"
   ]
  },
  {
   "attachments": {},
   "cell_type": "markdown",
   "metadata": {},
   "source": [
    "Preprocess the raw captcha images by croping each character into a new file"
   ]
  },
  {
   "cell_type": "code",
   "execution_count": 25,
   "metadata": {},
   "outputs": [],
   "source": [
    "char_detection.simple_char_detection(SIMPLE_CAPTCHA_FOLDER, SIMPLE_CHAR_FOLDER)"
   ]
  },
  {
   "attachments": {},
   "cell_type": "markdown",
   "metadata": {},
   "source": [
    "Now we prepare the data for training y getting each preprocessed character image and respective labels"
   ]
  },
  {
   "cell_type": "code",
   "execution_count": 76,
   "metadata": {},
   "outputs": [],
   "source": [
    "data, labels = preprocess.load_chars(SIMPLE_CHAR_FOLDER)"
   ]
  },
  {
   "cell_type": "code",
   "execution_count": 77,
   "metadata": {},
   "outputs": [
    {
     "data": {
      "text/plain": [
       "(38744, 20, 20, 1)"
      ]
     },
     "execution_count": 77,
     "metadata": {},
     "output_type": "execute_result"
    }
   ],
   "source": [
    "data.shape"
   ]
  },
  {
   "cell_type": "code",
   "execution_count": 173,
   "metadata": {},
   "outputs": [
    {
     "data": {
      "text/plain": [
       "<matplotlib.image.AxesImage at 0x7feddc0d3070>"
      ]
     },
     "execution_count": 173,
     "metadata": {},
     "output_type": "execute_result"
    },
    {
     "data": {
      "image/png": "[encoded data removed]",
      "text/plain": [
       "<Figure size 640x480 with 1 Axes>"
      ]
     },
     "metadata": {},
     "output_type": "display_data"
    }
   ],
   "source": [
    "plt.imshow(data[0], cmap = 'gray')"
   ]
  },
  {
   "attachments": {},
   "cell_type": "markdown",
   "metadata": {},
   "source": [
    "The images should be normalized to achieve better performance"
   ]
  },
  {
   "cell_type": "code",
   "execution_count": 80,
   "metadata": {},
   "outputs": [],
   "source": [
    "data = data / 255"
   ]
  },
  {
   "attachments": {},
   "cell_type": "markdown",
   "metadata": {},
   "source": [
    "The data is splitted into train, validation and test sets"
   ]
  },
  {
   "cell_type": "code",
   "execution_count": 81,
   "metadata": {},
   "outputs": [],
   "source": [
    "X_train, X_test, y_train, y_test = train_test_split(data, labels, test_size = 0.25, random_state=0, stratify=labels)\n",
    "X_train, X_val, y_train, y_val = train_test_split(X_train, y_train, test_size = 0.25, random_state=0, stratify=y_train)"
   ]
  },
  {
   "attachments": {},
   "cell_type": "markdown",
   "metadata": {},
   "source": [
    "In order to train the multi-class classification model, each character needs to be converted to a one hot encode. To do that we use a LabelBinarizer and we save it to later decode the network's outputs."
   ]
  },
  {
   "cell_type": "code",
   "execution_count": 82,
   "metadata": {},
   "outputs": [],
   "source": [
    "y_train, y_val, y_test = preprocess.one_hot_labels(y_train, y_val, y_test, SIMPLE_LABEL_BINARIZER)"
   ]
  },
  {
   "attachments": {},
   "cell_type": "markdown",
   "metadata": {},
   "source": [
    "The model is created and trained"
   ]
  },
  {
   "cell_type": "code",
   "execution_count": 99,
   "metadata": {},
   "outputs": [],
   "source": [
    "model = model_definition.simple_CNN()"
   ]
  },
  {
   "cell_type": "code",
   "execution_count": 100,
   "metadata": {},
   "outputs": [
    {
     "name": "stdout",
     "output_type": "stream",
     "text": [
      "Epoch 1/10\n",
      "682/682 [==============================] - 41s 60ms/step - loss: 0.2557 - accuracy: 0.9377 - val_loss: 0.0199 - val_accuracy: 0.9960\n",
      "Epoch 2/10\n",
      "682/682 [==============================] - 45s 67ms/step - loss: 0.0151 - accuracy: 0.9962 - val_loss: 0.0154 - val_accuracy: 0.9970\n",
      "Epoch 3/10\n",
      "682/682 [==============================] - 40s 59ms/step - loss: 0.0067 - accuracy: 0.9978 - val_loss: 0.0181 - val_accuracy: 0.9967\n",
      "Epoch 4/10\n",
      "682/682 [==============================] - 47s 69ms/step - loss: 0.0105 - accuracy: 0.9975 - val_loss: 0.0246 - val_accuracy: 0.9919\n",
      "Epoch 5/10\n",
      "682/682 [==============================] - 40s 58ms/step - loss: 0.0039 - accuracy: 0.9988 - val_loss: 0.0122 - val_accuracy: 0.9966\n",
      "Epoch 6/10\n",
      "682/682 [==============================] - 44s 65ms/step - loss: 0.0015 - accuracy: 0.9996 - val_loss: 0.0047 - val_accuracy: 0.9982\n",
      "Epoch 7/10\n",
      "682/682 [==============================] - 50s 73ms/step - loss: 0.0018 - accuracy: 0.9997 - val_loss: 0.0049 - val_accuracy: 0.9989\n",
      "Epoch 8/10\n",
      "682/682 [==============================] - 42s 61ms/step - loss: 0.0070 - accuracy: 0.9980 - val_loss: 0.0101 - val_accuracy: 0.9974\n",
      "Epoch 9/10\n",
      "682/682 [==============================] - 46s 68ms/step - loss: 0.0034 - accuracy: 0.9989 - val_loss: 0.0081 - val_accuracy: 0.9979\n",
      "Epoch 10/10\n",
      "682/682 [==============================] - 50s 74ms/step - loss: 0.0027 - accuracy: 0.9991 - val_loss: 0.0308 - val_accuracy: 0.9901\n"
     ]
    },
    {
     "data": {
      "text/plain": [
       "<keras.callbacks.History at 0x7fedfc5a2670>"
      ]
     },
     "execution_count": 100,
     "metadata": {},
     "output_type": "execute_result"
    }
   ],
   "source": [
    "model.fit(X_train, y_train, validation_data=(X_val, y_val), batch_size = 32, epochs = 10, verbose = 1)"
   ]
  },
  {
   "cell_type": "code",
   "execution_count": 105,
   "metadata": {},
   "outputs": [],
   "source": [
    "model.save(SIMPLE_MODEL)"
   ]
  },
  {
   "cell_type": "code",
   "execution_count": 250,
   "metadata": {},
   "outputs": [],
   "source": [
    "model = load_model(SIMPLE_MODEL)"
   ]
  },
  {
   "attachments": {},
   "cell_type": "markdown",
   "metadata": {},
   "source": [
    "It achieves a very good performance for training and validation. Let's see how it performs on the test set!"
   ]
  },
  {
   "cell_type": "code",
   "execution_count": 208,
   "metadata": {},
   "outputs": [
    {
     "name": "stdout",
     "output_type": "stream",
     "text": [
      "303/303 [==============================] - 3s 8ms/step - loss: 0.0337 - accuracy: 0.9908\n"
     ]
    },
    {
     "data": {
      "text/plain": [
       "[0.03369162231683731, 0.9908114671707153]"
      ]
     },
     "execution_count": 208,
     "metadata": {},
     "output_type": "execute_result"
    }
   ],
   "source": [
    "model.evaluate(X_test, y_test, batch_size=32)"
   ]
  },
  {
   "attachments": {},
   "cell_type": "markdown",
   "metadata": {},
   "source": [
    "The model seems to be well trained. Now, let's see it in action:"
   ]
  },
  {
   "cell_type": "code",
   "execution_count": 285,
   "metadata": {},
   "outputs": [
    {
     "name": "stdout",
     "output_type": "stream",
     "text": [
      "1/1 [==============================] - 0s 26ms/step\n",
      "1/1 [==============================] - 0s 57ms/step\n",
      "1/1 [==============================] - 0s 37ms/step\n",
      "1/1 [==============================] - 0s 69ms/step\n",
      "CAPTCHA text is ZEB8\n"
     ]
    },
    {
     "data": {
      "image/png": "[encoded data removed]",
      "text/plain": [
       "<Figure size 640x480 with 1 Axes>"
      ]
     },
     "metadata": {},
     "output_type": "display_data"
    },
    {
     "name": "stdout",
     "output_type": "stream",
     "text": [
      "1/1 [==============================] - 0s 22ms/step\n",
      "1/1 [==============================] - 0s 41ms/step\n",
      "1/1 [==============================] - 0s 27ms/step\n",
      "1/1 [==============================] - 0s 52ms/step\n",
      "CAPTCHA text is TJHJ\n"
     ]
    },
    {
     "data": {
      "image/png": "[encoded data removed]",
      "text/plain": [
       "<Figure size 640x480 with 1 Axes>"
      ]
     },
     "metadata": {},
     "output_type": "display_data"
    },
    {
     "name": "stdout",
     "output_type": "stream",
     "text": [
      "1/1 [==============================] - 0s 21ms/step\n",
      "1/1 [==============================] - 0s 25ms/step\n",
      "1/1 [==============================] - 0s 19ms/step\n",
      "1/1 [==============================] - 0s 32ms/step\n",
      "CAPTCHA text is RP84\n"
     ]
    },
    {
     "data": {
      "image/png": "[encoded data removed]",
      "text/plain": [
       "<Figure size 640x480 with 1 Axes>"
      ]
     },
     "metadata": {},
     "output_type": "display_data"
    },
    {
     "name": "stdout",
     "output_type": "stream",
     "text": [
      "1/1 [==============================] - 0s 20ms/step\n",
      "1/1 [==============================] - 0s 29ms/step\n",
      "1/1 [==============================] - 0s 25ms/step\n",
      "1/1 [==============================] - 0s 36ms/step\n",
      "CAPTCHA text is 9FNQ\n"
     ]
    },
    {
     "data": {
      "image/png": "[encoded data removed]",
      "text/plain": [
       "<Figure size 640x480 with 1 Axes>"
      ]
     },
     "metadata": {},
     "output_type": "display_data"
    },
    {
     "name": "stdout",
     "output_type": "stream",
     "text": [
      "1/1 [==============================] - 0s 28ms/step\n",
      "1/1 [==============================] - 0s 46ms/step\n",
      "1/1 [==============================] - 0s 18ms/step\n",
      "1/1 [==============================] - 0s 26ms/step\n",
      "CAPTCHA text is LHCH\n"
     ]
    },
    {
     "data": {
      "image/png": "[encoded data removed]",
      "text/plain": [
       "<Figure size 640x480 with 1 Axes>"
      ]
     },
     "metadata": {},
     "output_type": "display_data"
    }
   ],
   "source": [
    "images = list(paths.list_images(SIMPLE_CAPTCHA_FOLDER))\n",
    "images = np.random.choice(images, size=(5,), replace=False)\n",
    "\n",
    "# load label enconder\n",
    "with open(SIMPLE_LABEL_BINARIZER, 'rb') as f:\n",
    "    lb = pickle.load(f)\n",
    "\n",
    "for img_path in images:\n",
    "\n",
    "    img, char_bound_box = char_detection.img2chars(img_path)\n",
    "\n",
    "    if char_bound_box is None:\n",
    "        continue\n",
    "\n",
    "    # img_bound_boxes = utils.draw_bound_boxes(img, char_bound_box)\n",
    "    \n",
    "    captcha_text = utils.img_predict(model, lb, char_bound_box)\n",
    "\n",
    "    print(\"CAPTCHA text is {}\".format(captcha_text))\n",
    "    plt.imshow(img, cmap = 'gray')\n",
    "    plt.show()"
   ]
  },
  {
   "attachments": {},
   "cell_type": "markdown",
   "metadata": {},
   "source": [
    "## Hard Captcha Solver"
   ]
  },
  {
   "cell_type": "code",
   "execution_count": 12,
   "metadata": {},
   "outputs": [],
   "source": [
    "char_detection.hard_char_detection(HARD_CAPTCHA_FOLDER, HARD_CHAR_FOLDER)"
   ]
  }
 ],
 "metadata": {
  "kernelspec": {
   "display_name": "functionalenv",
   "language": "python",
   "name": "python3"
  },
  "language_info": {
   "codemirror_mode": {
    "name": "ipython",
    "version": 3
   },
   "file_extension": ".py",
   "mimetype": "text/x-python",
   "name": "python",
   "nbconvert_exporter": "python",
   "pygments_lexer": "ipython3",
   "version": "3.9.13"
  },
  "orig_nbformat": 4,
  "vscode": {
   "interpreter": {
    "hash": "c3e1b914758c0064768d5b7ded7793eb93afcfd32fe458b7f56104c45072a0c5"
   }
  }
 },
 "nbformat": 4,
 "nbformat_minor": 2
}
