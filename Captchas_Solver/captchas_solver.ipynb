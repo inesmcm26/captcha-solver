{
 "cells": [
  {
   "cell_type": "markdown",
   "metadata": {},
   "source": [
    "# Captchas Solver"
   ]
  },
  {
   "cell_type": "markdown",
   "metadata": {},
   "source": [
    "### Toolset\n",
    "- Python3\n",
    "- OpenCV\n",
    "- Keras\n",
    "- Tensorflow"
   ]
  },
  {
   "cell_type": "code",
   "execution_count": 13,
   "metadata": {},
   "outputs": [],
   "source": [
    "import os\n",
    "import os.path\n",
    "import cv2\n",
    "import glob\n",
    "import imutils\n",
    "\n",
    "import pickle\n",
    "import numpy as np\n",
    "from sklearn.preprocessing import LabelBinarizer\n",
    "from sklearn.model_selection import train_test_split\n",
    "from keras.models import Sequential\n",
    "from keras.layers.convolutional import Conv2D, MaxPooling2D\n",
    "from keras.layers.core import Flatten, Dense\n",
    "from imutils import paths\n",
    "\n",
    "from keras.models import load_model\n",
    "\n",
    "import matplotlib.pyplot as plt"
   ]
  },
  {
   "cell_type": "markdown",
   "metadata": {},
   "source": [
    "### Building and Training the Neural Network"
   ]
  },
  {
   "cell_type": "code",
   "execution_count": 14,
   "metadata": {},
   "outputs": [],
   "source": [
    "def resize_to_fit(image, width, height):\n",
    "    \"\"\"\n",
    "    A helper function to resize an image to fit within a given size\n",
    "    :param image: image to resize\n",
    "    :param width: desired width in pixels\n",
    "    :param height: desired height in pixels\n",
    "    :return: the resized image\n",
    "    \"\"\"\n",
    "\n",
    "    # grab the dimensions of the image, then initialize\n",
    "    # the padding values\n",
    "    (h, w) = image.shape[:2]\n",
    "\n",
    "    # if the width is greater than the height then resize along\n",
    "    # the width\n",
    "    if w > h:\n",
    "        image = imutils.resize(image, width=width)\n",
    "\n",
    "    # otherwise, the height is greater than the width so resize\n",
    "    # along the height\n",
    "    else:\n",
    "        image = imutils.resize(image, height=height)\n",
    "\n",
    "    # determine the padding values for the width and height to\n",
    "    # obtain the target dimensions\n",
    "    padW = int((width - image.shape[1]) / 2.0)\n",
    "    padH = int((height - image.shape[0]) / 2.0)\n",
    "\n",
    "    # pad the image then apply one more resizing to handle any\n",
    "    # rounding issues\n",
    "    image = cv2.copyMakeBorder(image, padH, padH, padW, padW,cv2.BORDER_REPLICATE)\n",
    "    image = cv2.resize(image, (width, height))\n",
    "\n",
    "    # return the pre-processed image\n",
    "    return image"
   ]
  },
  {
   "cell_type": "markdown",
   "metadata": {},
   "source": [
    "- get each image and tranform it to gray and to scale 20x20 pixels\n",
    "- extend each image to have a 3rd dimension (dimension of colors that will not be used in this case)\n",
    "- get the label of each image (saved on the path name)\n",
    "\n",
    "- having data and labels:\n",
    "    - split the data into training and test sets\n",
    "    - convert lables to one-hot enconding to do multi-class classification\n",
    "    - save model that encodes labels into one-hot encondings to later preprocess new observations"
   ]
  },
  {
   "cell_type": "code",
   "execution_count": 15,
   "metadata": {},
   "outputs": [],
   "source": [
    "data = []\n",
    "labels = []\n",
    "\n",
    "# loop over the input images\n",
    "for image_file in paths.list_images('extracted_letter_images'):\n",
    "    # Load the image and convert it to grayscale\n",
    "    image = cv2.imread(image_file)\n",
    "    image = cv2.cvtColor(image, cv2.COLOR_BGR2GRAY)\n",
    "\n",
    "    # Resize the letter so it fits in a 20x20 pixel box\n",
    "    image = resize_to_fit(image, 20, 20)\n",
    "\n",
    "    # Add a third channel dimension to the image to make Keras work\n",
    "    image = np.expand_dims(image, axis=2)\n",
    "\n",
    "    # Grab the name of the letter based on the folder it was in\n",
    "    label = image_file.split(os.path.sep)[-2]\n",
    "\n",
    "    # Add the letter image and it's label to our training data\n",
    "    data.append(image)\n",
    "    labels.append(label)\n",
    "\n",
    "# data[0].shape -> (20, 20, 1)\n",
    "\n",
    "# Scale the raw pixel intensities to [0,1] -> improves training\n",
    "data = np.array(data, dtype='float') / 255.0\n",
    "labels = np.array(labels)\n",
    "\n",
    "X_train, X_test, y_train, y_test = train_test_split(data, labels, test_size = 0.25, random_state=0, stratify=labels)\n",
    "X_train, X_val, y_train, y_val = train_test_split(X_train, y_train, test_size = 0.25, random_state=0, stratify=y_train)\n",
    "\n",
    "# Convert the labels (letters) into one-hot-encodings that Keras can work with\n",
    "# Used to extend classifiers to multi-class classifiers. It will make the model consisting of \"one model per class\n",
    "lb = LabelBinarizer().fit(y_train)\n",
    "y_train = lb.transform(y_train)\n",
    "y_val = lb.transform(y_val)\n",
    "y_test = lb.transform(y_test)\n",
    "\n",
    "# Save mapping from labels to one-hot-encodings\n",
    "with open(\"simple_labels.dat\", 'wb') as f:\n",
    "    pickle.dump(lb, f)\n"
   ]
  },
  {
   "cell_type": "markdown",
   "metadata": {},
   "source": [
    "- Model with 2 convultional layers (20 neurons + 50 neurons) with relu activation functions\n",
    "\n",
    "- Check what MaxPooling is\n",
    "\n",
    "- Flatten the output of the second convultional layer to make it as input of a dense fully connected layer\n",
    "\n",
    "- Ass 2 more dense layers, the latter as output layer with 32 neurons (same numnber as output characters possibilities) and softmax activation\n",
    "\n",
    "- Compile model with cross-entropy loss and Adam optimizer\n",
    "\n",
    "- Fit the model to the training data and use test data for validation\n",
    "\n",
    "- Save the model for later use to classifying new data\n"
   ]
  },
  {
   "cell_type": "code",
   "execution_count": 16,
   "metadata": {},
   "outputs": [
    {
     "name": "stdout",
     "output_type": "stream",
     "text": [
      "Epoch 1/10\n",
      "682/682 [==============================] - 56s 81ms/step - loss: 0.2482 - accuracy: 0.9396 - val_loss: 0.0275 - val_accuracy: 0.9935\n",
      "Epoch 2/10\n",
      "682/682 [==============================] - 52s 77ms/step - loss: 0.0146 - accuracy: 0.9964 - val_loss: 0.0119 - val_accuracy: 0.9977\n",
      "Epoch 3/10\n",
      "682/682 [==============================] - 49s 73ms/step - loss: 0.0068 - accuracy: 0.9981 - val_loss: 0.0116 - val_accuracy: 0.9964\n",
      "Epoch 4/10\n",
      "682/682 [==============================] - 52s 76ms/step - loss: 0.0044 - accuracy: 0.9989 - val_loss: 0.0097 - val_accuracy: 0.9982\n",
      "Epoch 5/10\n",
      "682/682 [==============================] - 49s 72ms/step - loss: 0.0022 - accuracy: 0.9992 - val_loss: 0.0065 - val_accuracy: 0.9985\n",
      "Epoch 6/10\n",
      "682/682 [==============================] - 53s 77ms/step - loss: 0.0022 - accuracy: 0.9994 - val_loss: 0.0114 - val_accuracy: 0.9982\n",
      "Epoch 7/10\n",
      "682/682 [==============================] - 50s 73ms/step - loss: 0.0073 - accuracy: 0.9979 - val_loss: 0.0067 - val_accuracy: 0.9977\n",
      "Epoch 8/10\n",
      "682/682 [==============================] - 48s 70ms/step - loss: 0.0033 - accuracy: 0.9990 - val_loss: 0.0070 - val_accuracy: 0.9971\n",
      "Epoch 9/10\n",
      "682/682 [==============================] - 44s 65ms/step - loss: 0.0011 - accuracy: 0.9997 - val_loss: 0.0059 - val_accuracy: 0.9982\n",
      "Epoch 10/10\n",
      "682/682 [==============================] - 47s 68ms/step - loss: 0.0030 - accuracy: 0.9993 - val_loss: 0.0066 - val_accuracy: 0.9978\n"
     ]
    }
   ],
   "source": [
    "model = Sequential()\n",
    "\n",
    "# 1st convolutional layer with max pooling\n",
    "model.add(Conv2D(20, (5, 5), padding=\"same\", input_shape=(20, 20, 1), activation=\"relu\"))\n",
    "model.add(MaxPooling2D(pool_size=(2, 2), strides=(2, 2)))\n",
    "\n",
    "# 2nd convolutional layer with max pooling\n",
    "model.add(Conv2D(50, (5, 5), padding=\"same\", activation=\"relu\"))\n",
    "model.add(MaxPooling2D(pool_size=(2, 2), strides=(2, 2)))\n",
    "\n",
    "# Hidden layer with 500 nodes\n",
    "model.add(Flatten())\n",
    "model.add(Dense(500, activation = 'relu'))\n",
    "\n",
    "# Output layer with 32 nodes -> number of possible characters\n",
    "model.add(Dense(32, activation = 'softmax'))\n",
    "\n",
    "# Ask Keras to build the model with TensorFlow behind the scenes\n",
    "model.compile(loss = 'categorical_crossentropy', optimizer = 'Adam', metrics =['accuracy'])\n",
    "\n",
    "# # Train the neural network\n",
    "model.fit(X_train, y_train, validation_data=(X_val, y_val), batch_size = 32, epochs = 10, verbose = 1)\n",
    "\n",
    "model.save('simple_captcha_model.hdf5')"
   ]
  },
  {
   "cell_type": "markdown",
   "metadata": {},
   "source": [
    "### Model evaluation"
   ]
  },
  {
   "cell_type": "code",
   "execution_count": 17,
   "metadata": {},
   "outputs": [
    {
     "name": "stdout",
     "output_type": "stream",
     "text": [
      "303/303 [==============================] - 3s 9ms/step - loss: 0.0143 - accuracy: 0.9975\n"
     ]
    },
    {
     "data": {
      "text/plain": [
       "[0.014310354366898537, 0.9975221753120422]"
      ]
     },
     "execution_count": 17,
     "metadata": {},
     "output_type": "execute_result"
    }
   ],
   "source": [
    "results = model.evaluate(X_test, y_test, batch_size=32)\n",
    "results"
   ]
  },
  {
   "cell_type": "markdown",
   "metadata": {},
   "source": [
    "### Seing the model in action"
   ]
  },
  {
   "cell_type": "code",
   "execution_count": 18,
   "metadata": {},
   "outputs": [],
   "source": [
    "def simple_captcha_test_preprocessing(image_file):\n",
    "\n",
    "    # Load image\n",
    "    img = cv2.imread(image_file)\n",
    "    img = cv2.cvtColor(img, cv2.COLOR_BGR2GRAY)\n",
    "    img = cv2.copyMakeBorder(img, 20, 20, 20, 20, cv2.BORDER_REPLICATE)\n",
    "\n",
    "    img_thresh = cv2.threshold(img, 0, 255, cv2.THRESH_BINARY_INV | cv2.THRESH_OTSU)[1]\n",
    "\n",
    "    img_contours = cv2.findContours(img_thresh.copy(), cv2.RETR_EXTERNAL, cv2.CHAIN_APPROX_SIMPLE)\n",
    "\n",
    "    img_contours = img_contours[1] if imutils.is_cv3() else img_contours[0]\n",
    "\n",
    "    letter_image_regions = []\n",
    "\n",
    "    for contour in img_contours:\n",
    "        (x, y, w, h) = cv2.boundingRect(contour)\n",
    "\n",
    "        if w / h > 1.25:\n",
    "            half_width = int(w/2)\n",
    "            letter_image_regions.append((x, y, half_width, h))\n",
    "            letter_image_regions.append((x + half_width, y, half_width, h))\n",
    "        else:\n",
    "            letter_image_regions.append((x, y, w, h))\n",
    "\n",
    "    if len(letter_image_regions) != 4:\n",
    "        return None\n",
    "\n",
    "    letter_image_regions = sorted(letter_image_regions, key= lambda x: x[0])\n",
    "\n",
    "    return (img, letter_image_regions)"
   ]
  },
  {
   "cell_type": "code",
   "execution_count": 19,
   "metadata": {},
   "outputs": [],
   "source": [
    "# load label enconder\n",
    "with open('simple_labels.dat', 'rb') as f:\n",
    "    lb = pickle.load(f)\n",
    "\n",
    "# load CNN\n",
    "model = load_model('simple_captcha_model.hdf5')\n",
    "\n",
    "# grab images to test against\n",
    "captcha_image_files = list(paths.list_images('generated_captcha_images'))\n",
    "captcha_image_files = np.random.choice(captcha_image_files, size=(10,), replace=False)"
   ]
  },
  {
   "cell_type": "code",
   "execution_count": 20,
   "metadata": {},
   "outputs": [
    {
     "name": "stdout",
     "output_type": "stream",
     "text": [
      "1/1 [==============================] - 0s 56ms/step\n",
      "1/1 [==============================] - 0s 22ms/step\n",
      "1/1 [==============================] - 0s 38ms/step\n",
      "1/1 [==============================] - 0s 69ms/step\n",
      "CAPTCHA text is 7CNG\n",
      "1/1 [==============================] - 0s 18ms/step\n",
      "1/1 [==============================] - 0s 15ms/step\n",
      "1/1 [==============================] - 0s 41ms/step\n",
      "1/1 [==============================] - 0s 28ms/step\n",
      "CAPTCHA text is 2E92\n",
      "1/1 [==============================] - 0s 32ms/step\n",
      "1/1 [==============================] - 0s 56ms/step\n",
      "1/1 [==============================] - 0s 28ms/step\n",
      "1/1 [==============================] - 0s 31ms/step\n",
      "CAPTCHA text is JJ24\n",
      "1/1 [==============================] - 0s 38ms/step\n",
      "1/1 [==============================] - 0s 21ms/step\n",
      "1/1 [==============================] - 0s 55ms/step\n",
      "1/1 [==============================] - 0s 21ms/step\n",
      "CAPTCHA text is 4KMU\n",
      "1/1 [==============================] - 0s 44ms/step\n",
      "1/1 [==============================] - 0s 28ms/step\n",
      "1/1 [==============================] - 0s 43ms/step\n",
      "1/1 [==============================] - 0s 22ms/step\n",
      "CAPTCHA text is FV8X\n",
      "1/1 [==============================] - 0s 28ms/step\n",
      "1/1 [==============================] - 0s 22ms/step\n",
      "1/1 [==============================] - 0s 69ms/step\n",
      "1/1 [==============================] - 0s 33ms/step\n",
      "CAPTCHA text is 3XYE\n",
      "1/1 [==============================] - 0s 26ms/step\n",
      "1/1 [==============================] - 0s 20ms/step\n",
      "1/1 [==============================] - 0s 22ms/step\n",
      "1/1 [==============================] - 0s 29ms/step\n",
      "CAPTCHA text is ZSHB\n",
      "1/1 [==============================] - 0s 33ms/step\n",
      "1/1 [==============================] - 0s 26ms/step\n",
      "1/1 [==============================] - 0s 37ms/step\n",
      "1/1 [==============================] - 0s 20ms/step\n",
      "CAPTCHA text is BMRE\n",
      "1/1 [==============================] - 0s 37ms/step\n",
      "1/1 [==============================] - 0s 21ms/step\n",
      "1/1 [==============================] - 0s 28ms/step\n",
      "1/1 [==============================] - 0s 26ms/step\n",
      "CAPTCHA text is VEPM\n",
      "1/1 [==============================] - 0s 31ms/step\n",
      "1/1 [==============================] - 0s 22ms/step\n",
      "1/1 [==============================] - 0s 18ms/step\n",
      "1/1 [==============================] - 0s 21ms/step\n",
      "CAPTCHA text is 5LTB\n"
     ]
    }
   ],
   "source": [
    "for image_file in captcha_image_files:\n",
    "\n",
    "    preprocess_return = simple_captcha_test_preprocessing(image_file)\n",
    "\n",
    "    if preprocess_return == None:\n",
    "        continue\n",
    "    \n",
    "    (image, letter_image_regions) = preprocess_return\n",
    "\n",
    "    output = cv2.merge([image] * 3)\n",
    "    predictions = []\n",
    "\n",
    "    for letter_bounding_box in letter_image_regions:\n",
    "        (x, y, w, h) = letter_bounding_box\n",
    "\n",
    "        letter_image = image[y-2 : y + h + 2, x-2 : x+w+2]\n",
    "\n",
    "        letter_image = resize_to_fit(letter_image, 20, 20)\n",
    "\n",
    "        letter_image = np.expand_dims(letter_image, axis = 2)\n",
    "        letter_image = np.expand_dims(letter_image, axis = 0)\n",
    "        \n",
    "        prediction = model.predict(letter_image)\n",
    "\n",
    "        letter = lb.inverse_transform(prediction)[0]\n",
    "        predictions.append(letter)\n",
    "\n",
    "        cv2.rectangle(output, (x-2, y-2), (x+w+4, y+h+4), (0, 255, 0), 1)\n",
    "        cv2.putText(output, letter, (x - 5, y - 5), cv2.FONT_HERSHEY_SIMPLEX, 0.55, (0, 255, 0), 2)\n",
    "\n",
    "    captcha_text = \"\".join(predictions)\n",
    "    print(\"CAPTCHA text is {}\".format(captcha_text))\n",
    "\n",
    "    cv2.imshow(\"Output\", output)\n",
    "    cv2.waitKey(0)\n",
    "    cv2.destroyAllWindows() \n"
   ]
  },
  {
   "cell_type": "code",
   "execution_count": null,
   "metadata": {},
   "outputs": [],
   "source": []
  }
 ],
 "metadata": {
  "kernelspec": {
   "display_name": "Python 3.9.13 ('functionalenv')",
   "language": "python",
   "name": "python3"
  },
  "language_info": {
   "codemirror_mode": {
    "name": "ipython",
    "version": 3
   },
   "file_extension": ".py",
   "mimetype": "text/x-python",
   "name": "python",
   "nbconvert_exporter": "python",
   "pygments_lexer": "ipython3",
   "version": "3.9.13"
  },
  "orig_nbformat": 4,
  "vscode": {
   "interpreter": {
    "hash": "c3e1b914758c0064768d5b7ded7793eb93afcfd32fe458b7f56104c45072a0c5"
   }
  }
 },
 "nbformat": 4,
 "nbformat_minor": 2
}
